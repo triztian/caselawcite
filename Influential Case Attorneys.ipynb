{
 "cells": [
  {
   "cell_type": "code",
   "execution_count": 1,
   "metadata": {},
   "outputs": [],
   "source": [
    "\n",
    "import pandas as pd\n",
    "import sqlite3\n",
    "\n"
   ]
  },
  {
   "cell_type": "code",
   "execution_count": 22,
   "metadata": {},
   "outputs": [
    {
     "output_type": "execute_result",
     "data": {
      "text/plain": "                  case_id\ncites_to_case_id         \n2866138              1632\n5550081              1450\n3138930              1174\n5809665              1101\n3147214               835\n5463653               717\n5426498               669\n3166688               591\n2933485               541\n4820940               515",
      "text/html": "<div>\n<style scoped>\n    .dataframe tbody tr th:only-of-type {\n        vertical-align: middle;\n    }\n\n    .dataframe tbody tr th {\n        vertical-align: top;\n    }\n\n    .dataframe thead th {\n        text-align: right;\n    }\n</style>\n<table border=\"1\" class=\"dataframe\">\n  <thead>\n    <tr style=\"text-align: right;\">\n      <th></th>\n      <th>case_id</th>\n    </tr>\n    <tr>\n      <th>cites_to_case_id</th>\n      <th></th>\n    </tr>\n  </thead>\n  <tbody>\n    <tr>\n      <th>2866138</th>\n      <td>1632</td>\n    </tr>\n    <tr>\n      <th>5550081</th>\n      <td>1450</td>\n    </tr>\n    <tr>\n      <th>3138930</th>\n      <td>1174</td>\n    </tr>\n    <tr>\n      <th>5809665</th>\n      <td>1101</td>\n    </tr>\n    <tr>\n      <th>3147214</th>\n      <td>835</td>\n    </tr>\n    <tr>\n      <th>5463653</th>\n      <td>717</td>\n    </tr>\n    <tr>\n      <th>5426498</th>\n      <td>669</td>\n    </tr>\n    <tr>\n      <th>3166688</th>\n      <td>591</td>\n    </tr>\n    <tr>\n      <th>2933485</th>\n      <td>541</td>\n    </tr>\n    <tr>\n      <th>4820940</th>\n      <td>515</td>\n    </tr>\n  </tbody>\n</table>\n</div>"
     },
     "metadata": {},
     "execution_count": 22
    }
   ],
   "source": [
    "conn = sqlite3.connect(\"./hcaplite.sqlite\")\n",
    "citations = pd.read_sql(\"SELECT * FROM case_citations\", conn)\n",
    "citations.groupby(['cites_to_case_id']).count().sort_values('case_id', ascending=False).head(10)\n",
    "\n"
   ]
  },
  {
   "cell_type": "code",
   "execution_count": 23,
   "metadata": {},
   "outputs": [
    {
     "output_type": "execute_result",
     "data": {
      "text/plain": "       attorney_id  case_id       party  party_type  \\\n59713        36244  3147214   appellant     private   \n59714        12430  3147214  the people  government   \n59715        76676  3147214  the people     private   \n\n                             title     id                            names  \n59713           assistant defender  36244                 gary s. rapaport  \n59714             attorney general  12430                 neil f. hartigan  \n59715  assistant attorneys general  76676  sally l. dilgart jack donatelli  ",
      "text/html": "<div>\n<style scoped>\n    .dataframe tbody tr th:only-of-type {\n        vertical-align: middle;\n    }\n\n    .dataframe tbody tr th {\n        vertical-align: top;\n    }\n\n    .dataframe thead th {\n        text-align: right;\n    }\n</style>\n<table border=\"1\" class=\"dataframe\">\n  <thead>\n    <tr style=\"text-align: right;\">\n      <th></th>\n      <th>attorney_id</th>\n      <th>case_id</th>\n      <th>party</th>\n      <th>party_type</th>\n      <th>title</th>\n      <th>id</th>\n      <th>names</th>\n    </tr>\n  </thead>\n  <tbody>\n    <tr>\n      <th>59713</th>\n      <td>36244</td>\n      <td>3147214</td>\n      <td>appellant</td>\n      <td>private</td>\n      <td>assistant defender</td>\n      <td>36244</td>\n      <td>gary s. rapaport</td>\n    </tr>\n    <tr>\n      <th>59714</th>\n      <td>12430</td>\n      <td>3147214</td>\n      <td>the people</td>\n      <td>government</td>\n      <td>attorney general</td>\n      <td>12430</td>\n      <td>neil f. hartigan</td>\n    </tr>\n    <tr>\n      <th>59715</th>\n      <td>76676</td>\n      <td>3147214</td>\n      <td>the people</td>\n      <td>private</td>\n      <td>assistant attorneys general</td>\n      <td>76676</td>\n      <td>sally l. dilgart jack donatelli</td>\n    </tr>\n  </tbody>\n</table>\n</div>"
     },
     "metadata": {},
     "execution_count": 23
    }
   ],
   "source": [
    "attorney_cases = pd.read_sql(\"SELECT * FROM attorney_cases AS ac INNER JOIN attorneys AS att ON att.id = ac.attorney_id\", conn)\n",
    "\n",
    "attorney_cases.groupby(\"case_id\").get_group(3147214)"
   ]
  },
  {
   "cell_type": "code",
   "execution_count": null,
   "metadata": {},
   "outputs": [],
   "source": []
  }
 ],
 "metadata": {
  "language_info": {
   "codemirror_mode": {
    "name": "ipython",
    "version": 3
   },
   "file_extension": ".py",
   "mimetype": "text/x-python",
   "name": "python",
   "nbconvert_exporter": "python",
   "pygments_lexer": "ipython3",
   "version": "3.8.2-final"
  },
  "orig_nbformat": 2,
  "kernelspec": {
   "name": "python38264bit382pyenv05fc67cdd8c348f9a384c10c4419353e",
   "display_name": "Python 3.8.2 64-bit ('3.8.2': pyenv)"
  }
 },
 "nbformat": 4,
 "nbformat_minor": 2
}