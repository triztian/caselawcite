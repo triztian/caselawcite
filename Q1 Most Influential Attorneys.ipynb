{
 "cells": [
  {
   "cell_type": "code",
   "execution_count": 1,
   "metadata": {},
   "outputs": [],
   "source": [
    "# Load libraries\n",
    "import pandas as pd\n",
    "import sqlite3\n",
    "\n",
    "conn = sqlite3.connect(\"./hcap.sqlite\")\n",
    "attorneys = pd.read_sql(\"SELECT * FROM attorneys AS att INNER JOIN attorney_cases AS attc ON att.id = attorney_id\", conn)"
   ]
  },
  {
   "cell_type": "code",
   "execution_count": 2,
   "metadata": {
    "tags": [
     "outputPrepend"
    ]
   },
   "outputs": [
    {
     "output_type": "execute_result",
     "data": {
      "text/plain": "               id  names  case_id  party  party_type  title\nattorney_id                                                \n6075         5559   5559     5559   5559        5559   5559",
      "text/html": "<div>\n<style scoped>\n    .dataframe tbody tr th:only-of-type {\n        vertical-align: middle;\n    }\n\n    .dataframe tbody tr th {\n        vertical-align: top;\n    }\n\n    .dataframe thead th {\n        text-align: right;\n    }\n</style>\n<table border=\"1\" class=\"dataframe\">\n  <thead>\n    <tr style=\"text-align: right;\">\n      <th></th>\n      <th>id</th>\n      <th>names</th>\n      <th>case_id</th>\n      <th>party</th>\n      <th>party_type</th>\n      <th>title</th>\n    </tr>\n    <tr>\n      <th>attorney_id</th>\n      <th></th>\n      <th></th>\n      <th></th>\n      <th></th>\n      <th></th>\n      <th></th>\n    </tr>\n  </thead>\n  <tbody>\n    <tr>\n      <th>6075</th>\n      <td>5559</td>\n      <td>5559</td>\n      <td>5559</td>\n      <td>5559</td>\n      <td>5559</td>\n      <td>5559</td>\n    </tr>\n  </tbody>\n</table>\n</div>"
     },
     "metadata": {},
     "execution_count": 2
    }
   ],
   "source": [
    "\n",
    "## Attorney involved in the most cases (govt. and private)?\n",
    "\n",
    "attcases = attorneys.groupby([\"attorney_id\"])\n",
    "attcases.count().sort_values(\"id\", ascending=False).head(1)\n"
   ]
  },
  {
   "cell_type": "code",
   "execution_count": 3,
   "metadata": {},
   "outputs": [
    {
     "output_type": "execute_result",
     "data": {
      "text/plain": "          id             names  attorney_id  case_id  \\\n7892    6075  william j. scott         6075  5604938   \n7902    6075  william j. scott         6075  5605282   \n8691    6075  william j. scott         6075  5602755   \n8693    6075  william j. scott         6075  5604329   \n8915    6075  william j. scott         6075  5604045   \n...      ...               ...          ...      ...   \n110776  6075  william j. scott         6075  3120572   \n110802  6075  william j. scott         6075  2633980   \n110809  6075  william j. scott         6075  2633666   \n110816  6075  william j. scott         6075  5326904   \n110818  6075  william j. scott         6075  5327568   \n\n                                        party  party_type             title  \n7892                               the people  government  attorney general  \n7902                               appellants  government  attorney general  \n8691                                appellees  government  attorney general  \n8693                                appellees  government  attorney general  \n8915                                appellant  government  attorney general  \n...                                       ...         ...               ...  \n110776  appellees robert h carroll sam thames  government  attorney general  \n110802                              appellant  government  attorney general  \n110809                             the people  government  attorney general  \n110816                             respondent  government  attorney general  \n110818                             respondent  government  attorney general  \n\n[5559 rows x 7 columns]",
      "text/html": "<div>\n<style scoped>\n    .dataframe tbody tr th:only-of-type {\n        vertical-align: middle;\n    }\n\n    .dataframe tbody tr th {\n        vertical-align: top;\n    }\n\n    .dataframe thead th {\n        text-align: right;\n    }\n</style>\n<table border=\"1\" class=\"dataframe\">\n  <thead>\n    <tr style=\"text-align: right;\">\n      <th></th>\n      <th>id</th>\n      <th>names</th>\n      <th>attorney_id</th>\n      <th>case_id</th>\n      <th>party</th>\n      <th>party_type</th>\n      <th>title</th>\n    </tr>\n  </thead>\n  <tbody>\n    <tr>\n      <th>7892</th>\n      <td>6075</td>\n      <td>william j. scott</td>\n      <td>6075</td>\n      <td>5604938</td>\n      <td>the people</td>\n      <td>government</td>\n      <td>attorney general</td>\n    </tr>\n    <tr>\n      <th>7902</th>\n      <td>6075</td>\n      <td>william j. scott</td>\n      <td>6075</td>\n      <td>5605282</td>\n      <td>appellants</td>\n      <td>government</td>\n      <td>attorney general</td>\n    </tr>\n    <tr>\n      <th>8691</th>\n      <td>6075</td>\n      <td>william j. scott</td>\n      <td>6075</td>\n      <td>5602755</td>\n      <td>appellees</td>\n      <td>government</td>\n      <td>attorney general</td>\n    </tr>\n    <tr>\n      <th>8693</th>\n      <td>6075</td>\n      <td>william j. scott</td>\n      <td>6075</td>\n      <td>5604329</td>\n      <td>appellees</td>\n      <td>government</td>\n      <td>attorney general</td>\n    </tr>\n    <tr>\n      <th>8915</th>\n      <td>6075</td>\n      <td>william j. scott</td>\n      <td>6075</td>\n      <td>5604045</td>\n      <td>appellant</td>\n      <td>government</td>\n      <td>attorney general</td>\n    </tr>\n    <tr>\n      <th>...</th>\n      <td>...</td>\n      <td>...</td>\n      <td>...</td>\n      <td>...</td>\n      <td>...</td>\n      <td>...</td>\n      <td>...</td>\n    </tr>\n    <tr>\n      <th>110776</th>\n      <td>6075</td>\n      <td>william j. scott</td>\n      <td>6075</td>\n      <td>3120572</td>\n      <td>appellees robert h carroll sam thames</td>\n      <td>government</td>\n      <td>attorney general</td>\n    </tr>\n    <tr>\n      <th>110802</th>\n      <td>6075</td>\n      <td>william j. scott</td>\n      <td>6075</td>\n      <td>2633980</td>\n      <td>appellant</td>\n      <td>government</td>\n      <td>attorney general</td>\n    </tr>\n    <tr>\n      <th>110809</th>\n      <td>6075</td>\n      <td>william j. scott</td>\n      <td>6075</td>\n      <td>2633666</td>\n      <td>the people</td>\n      <td>government</td>\n      <td>attorney general</td>\n    </tr>\n    <tr>\n      <th>110816</th>\n      <td>6075</td>\n      <td>william j. scott</td>\n      <td>6075</td>\n      <td>5326904</td>\n      <td>respondent</td>\n      <td>government</td>\n      <td>attorney general</td>\n    </tr>\n    <tr>\n      <th>110818</th>\n      <td>6075</td>\n      <td>william j. scott</td>\n      <td>6075</td>\n      <td>5327568</td>\n      <td>respondent</td>\n      <td>government</td>\n      <td>attorney general</td>\n    </tr>\n  </tbody>\n</table>\n<p>5559 rows × 7 columns</p>\n</div>"
     },
     "metadata": {},
     "execution_count": 3
    }
   ],
   "source": [
    "\n",
    "# Top 5 attorneys with case count\n",
    "attcases.get_group(6075)\n",
    "# top5 = attcases.count().sort_values(\"case_id\", ascending=False).head(5)\n"
   ]
  },
  {
   "cell_type": "code",
   "execution_count": 4,
   "metadata": {},
   "outputs": [
    {
     "output_type": "execute_result",
     "data": {
      "text/plain": "                          id  names  case_id  party  title\nattorney_id party_type                                    \n6075        government  5551   5551     5551   5551   5551\n14931       government  3550   3550     3550   3550   3550\n13530       private     2413   2413     2413   2413   2413\n12363       government  2170   2170     2170   2170   2170\n13531       government  2029   2029     2029   2029   2029",
      "text/html": "<div>\n<style scoped>\n    .dataframe tbody tr th:only-of-type {\n        vertical-align: middle;\n    }\n\n    .dataframe tbody tr th {\n        vertical-align: top;\n    }\n\n    .dataframe thead th {\n        text-align: right;\n    }\n</style>\n<table border=\"1\" class=\"dataframe\">\n  <thead>\n    <tr style=\"text-align: right;\">\n      <th></th>\n      <th></th>\n      <th>id</th>\n      <th>names</th>\n      <th>case_id</th>\n      <th>party</th>\n      <th>title</th>\n    </tr>\n    <tr>\n      <th>attorney_id</th>\n      <th>party_type</th>\n      <th></th>\n      <th></th>\n      <th></th>\n      <th></th>\n      <th></th>\n    </tr>\n  </thead>\n  <tbody>\n    <tr>\n      <th>6075</th>\n      <th>government</th>\n      <td>5551</td>\n      <td>5551</td>\n      <td>5551</td>\n      <td>5551</td>\n      <td>5551</td>\n    </tr>\n    <tr>\n      <th>14931</th>\n      <th>government</th>\n      <td>3550</td>\n      <td>3550</td>\n      <td>3550</td>\n      <td>3550</td>\n      <td>3550</td>\n    </tr>\n    <tr>\n      <th>13530</th>\n      <th>private</th>\n      <td>2413</td>\n      <td>2413</td>\n      <td>2413</td>\n      <td>2413</td>\n      <td>2413</td>\n    </tr>\n    <tr>\n      <th>12363</th>\n      <th>government</th>\n      <td>2170</td>\n      <td>2170</td>\n      <td>2170</td>\n      <td>2170</td>\n      <td>2170</td>\n    </tr>\n    <tr>\n      <th>13531</th>\n      <th>government</th>\n      <td>2029</td>\n      <td>2029</td>\n      <td>2029</td>\n      <td>2029</td>\n      <td>2029</td>\n    </tr>\n  </tbody>\n</table>\n</div>"
     },
     "metadata": {},
     "execution_count": 4
    }
   ],
   "source": [
    "\n",
    "## Attorney involved in the most cases?\n",
    "## First group and count\n",
    "attcases_pvtgovt = attorneys.groupby([\"attorney_id\", \"party_type\"])\n",
    "attcases_pg_cnt = attcases_pvtgovt.count().sort_values(\"case_id\", ascending=False).head(5)\n",
    "attcases_pg_cnt\n",
    "\n"
   ]
  },
  {
   "cell_type": "code",
   "execution_count": 5,
   "metadata": {},
   "outputs": [
    {
     "output_type": "execute_result",
     "data": {
      "text/plain": "                          id  names  case_id  party  title\nattorney_id party_type                                    \n6075        government  5551   5551     5551   5551   5551\n13530       private     2413   2413     2413   2413   2413",
      "text/html": "<div>\n<style scoped>\n    .dataframe tbody tr th:only-of-type {\n        vertical-align: middle;\n    }\n\n    .dataframe tbody tr th {\n        vertical-align: top;\n    }\n\n    .dataframe thead th {\n        text-align: right;\n    }\n</style>\n<table border=\"1\" class=\"dataframe\">\n  <thead>\n    <tr style=\"text-align: right;\">\n      <th></th>\n      <th></th>\n      <th>id</th>\n      <th>names</th>\n      <th>case_id</th>\n      <th>party</th>\n      <th>title</th>\n    </tr>\n    <tr>\n      <th>attorney_id</th>\n      <th>party_type</th>\n      <th></th>\n      <th></th>\n      <th></th>\n      <th></th>\n      <th></th>\n    </tr>\n  </thead>\n  <tbody>\n    <tr>\n      <th>6075</th>\n      <th>government</th>\n      <td>5551</td>\n      <td>5551</td>\n      <td>5551</td>\n      <td>5551</td>\n      <td>5551</td>\n    </tr>\n    <tr>\n      <th>13530</th>\n      <th>private</th>\n      <td>2413</td>\n      <td>2413</td>\n      <td>2413</td>\n      <td>2413</td>\n      <td>2413</td>\n    </tr>\n  </tbody>\n</table>\n</div>"
     },
     "metadata": {},
     "execution_count": 5
    }
   ],
   "source": [
    "## Then obtain the maximums for each party type:\n",
    "\n",
    "attcases_pg_cnt.loc[attcases_pg_cnt.groupby(level='party_type')['id'].idxmax()]"
   ]
  }
 ],
 "metadata": {
  "language_info": {
   "codemirror_mode": {
    "name": "ipython",
    "version": 3
   },
   "file_extension": ".py",
   "mimetype": "text/x-python",
   "name": "python",
   "nbconvert_exporter": "python",
   "pygments_lexer": "ipython3",
   "version": "3.8.2-final"
  },
  "orig_nbformat": 2,
  "kernelspec": {
   "name": "python38264bit382pyenv05fc67cdd8c348f9a384c10c4419353e",
   "display_name": "Python 3.8.2 64-bit ('3.8.2': pyenv)"
  }
 },
 "nbformat": 4,
 "nbformat_minor": 2
}