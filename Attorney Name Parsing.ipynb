{
 "cells": [
  {
   "cell_type": "code",
   "execution_count": 1,
   "metadata": {},
   "outputs": [],
   "source": [
    "\n",
    "## Sample Data\n",
    "input_data = [\n",
    "  \"James E. Ryan, Attorney General, of Springfield (Barbara A. Preiner, Solicitor General, and Janon E. Fabiano, Jr., Assistant Attorney General, of Chicago, of counsel), for appellant.\",\n",
    "  \"Robert F. Kaucher, of Highland, for appellee.\"\n",
    "]"
   ]
  },
  {
   "cell_type": "code",
   "execution_count": 2,
   "metadata": {},
   "outputs": [
    {
     "output_type": "stream",
     "name": "stdout",
     "text": "/Users/Tristian/Repositories/gitlab.com/tristian.azuara/uclacaselawcite\n"
    }
   ],
   "source": [
    "## Setup modules and packages\n",
    "import sys, os\n",
    "sys.path.insert(0, os.path.join(os.getcwd(), 'ETL'))\n",
    "print(os.getcwd())\n",
    "\n",
    "from ETL.string_processing import *\n",
    "from ETL.attorney_names import *"
   ]
  },
  {
   "cell_type": "code",
   "execution_count": 3,
   "metadata": {},
   "outputs": [
    {
     "output_type": "execute_result",
     "data": {
      "text/plain": "['james e. ryan',\n 'barbara a. preiner',\n 'janon e. fabiano',\n 'janon e. fabiano jr.',\n 'robert f. kaucher']"
     },
     "metadata": {},
     "execution_count": 3
    }
   ],
   "source": [
    "\n",
    "cleaned = [split_clean(item) for item in input_data]\n",
    "\n",
    "name_strings = flatten(cleaned)\n",
    "name_strings = fix_jr_suffixes(name_strings)\n",
    "\n",
    "[string for string in name_strings if is_person_name(string)]\n"
   ]
  },
  {
   "cell_type": "code",
   "execution_count": null,
   "metadata": {},
   "outputs": [],
   "source": []
  }
 ],
 "metadata": {
  "language_info": {
   "codemirror_mode": {
    "name": "ipython",
    "version": 3
   },
   "file_extension": ".py",
   "mimetype": "text/x-python",
   "name": "python",
   "nbconvert_exporter": "python",
   "pygments_lexer": "ipython3",
   "version": "3.8.2-final"
  },
  "orig_nbformat": 2,
  "kernelspec": {
   "name": "python38264bit382pyenv05fc67cdd8c348f9a384c10c4419353e",
   "display_name": "Python 3.8.2 64-bit ('3.8.2': pyenv)"
  }
 },
 "nbformat": 4,
 "nbformat_minor": 2
}