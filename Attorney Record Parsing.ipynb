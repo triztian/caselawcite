{
 "cells": [
  {
   "cell_type": "code",
   "execution_count": 1,
   "metadata": {},
   "outputs": [],
   "source": [
    "\n",
    "## Sample Data\n",
    "input_data = [\n",
    "  \"James E. Ryan, Attorney General, of Springfield (Barbara A. Preiner, Solicitor General, and Janon E. Fabiano, Jr., Assistant Attorney General, of Chicago, of counsel), for appellant.\",\n",
    "  \"Robert F. Kaucher, of Highland, for appellee.\"\n",
    "]"
   ]
  },
  {
   "cell_type": "code",
   "execution_count": 2,
   "metadata": {},
   "outputs": [
    {
     "output_type": "stream",
     "name": "stdout",
     "text": "/Users/Tristian/Repositories/gitlab.com/tristian.azuara/uclacaselawcite\n"
    }
   ],
   "source": [
    "## Setup modules and packages\n",
    "import sys, os\n",
    "sys.path.insert(0, os.path.join(os.getcwd(), 'ETL'))\n",
    "print(os.getcwd())\n",
    "\n",
    "from ETL.string_processing import *\n",
    "from ETL.attorney_names import *"
   ]
  },
  {
   "cell_type": "code",
   "execution_count": 3,
   "metadata": {},
   "outputs": [
    {
     "output_type": "stream",
     "name": "stdout",
     "text": "{'name': 'janon e. fabiano jr.', 'party': 'appellant', 'title': 'assistant attorney general', 'party_type': 'government'}\n"
    },
    {
     "output_type": "execute_result",
     "data": {
      "text/plain": "[{'party': 'appellant',\n  'title': 'attorney general',\n  'party_type': 'government',\n  'name': 'james e. ryan'},\n {'name': 'barbara a. preiner',\n  'party': 'appellant',\n  'title': 'solicitor general',\n  'party_type': 'government'},\n {'name': 'janon e. fabiano', 'party': 'appellant'},\n {'name': 'janon e. fabiano jr.',\n  'party': 'appellant',\n  'title': 'assistant attorney general',\n  'party_type': 'government'}]"
     },
     "metadata": {},
     "execution_count": 3
    }
   ],
   "source": [
    "\n",
    "list(parse_attorneys(input_data))"
   ]
  }
 ],
 "metadata": {
  "language_info": {
   "codemirror_mode": {
    "name": "ipython",
    "version": 3
   },
   "file_extension": ".py",
   "mimetype": "text/x-python",
   "name": "python",
   "nbconvert_exporter": "python",
   "pygments_lexer": "ipython3",
   "version": "3.8.2-final"
  },
  "orig_nbformat": 2,
  "kernelspec": {
   "name": "python38264bit382pyenv05fc67cdd8c348f9a384c10c4419353e",
   "display_name": "Python 3.8.2 64-bit ('3.8.2': pyenv)"
  }
 },
 "nbformat": 4,
 "nbformat_minor": 2
}