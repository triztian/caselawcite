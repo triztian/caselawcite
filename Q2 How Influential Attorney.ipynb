{
 "cells": [
  {
   "cell_type": "code",
   "execution_count": 1,
   "metadata": {},
   "outputs": [],
   "source": [
    "import pandas as pd\n",
    "import sqlite3\n",
    "\n",
    "conn = sqlite3.connect(\"./hcap.sqlite\")\n",
    "\n",
    "attcases = pd.read_sql_query(\"SELECT * FROM attorney_cases\", conn)"
   ]
  },
  {
   "cell_type": "code",
   "execution_count": 6,
   "metadata": {},
   "outputs": [
    {
     "output_type": "stream",
     "name": "stdout",
     "text": "attorney_id\n1         1689\n2          521\n3           36\n4            7\n5            1\n          ... \n121536       1\n121538       1\n121600       1\n121613       1\n121615       1\nLength: 14855, dtype: int64\n201\n"
    },
    {
     "output_type": "execute_result",
     "data": {
      "text/plain": "          id          names\n13937  13938  john s. boyle",
      "text/html": "<div>\n<style scoped>\n    .dataframe tbody tr th:only-of-type {\n        vertical-align: middle;\n    }\n\n    .dataframe tbody tr th {\n        vertical-align: top;\n    }\n\n    .dataframe thead th {\n        text-align: right;\n    }\n</style>\n<table border=\"1\" class=\"dataframe\">\n  <thead>\n    <tr style=\"text-align: right;\">\n      <th></th>\n      <th>id</th>\n      <th>names</th>\n    </tr>\n  </thead>\n  <tbody>\n    <tr>\n      <th>13937</th>\n      <td>13938</td>\n      <td>john s. boyle</td>\n    </tr>\n  </tbody>\n</table>\n</div>"
     },
     "metadata": {},
     "execution_count": 6
    }
   ],
   "source": [
    "# Find and attorney with a mediumly-large number of cases.\n",
    "attorneys = pd.read_sql_query(\"SELECT * FROM attorneys\", conn)\n",
    "\n",
    "attcascnt = attcases.groupby(\"attorney_id\").size()\n",
    "\n",
    "print(attcascnt)\n",
    "print(attcascnt[attcascnt == 201].iloc[0])\n",
    "\n",
    "attorneys[attorneys[\"id\"] == 13938]"
   ]
  }
 ],
 "metadata": {
  "language_info": {
   "codemirror_mode": {
    "name": "ipython",
    "version": 3
   },
   "file_extension": ".py",
   "mimetype": "text/x-python",
   "name": "python",
   "nbconvert_exporter": "python",
   "pygments_lexer": "ipython3",
   "version": "3.8.2-final"
  },
  "orig_nbformat": 2,
  "kernelspec": {
   "name": "python38264bit382pyenv05fc67cdd8c348f9a384c10c4419353e",
   "display_name": "Python 3.8.2 64-bit ('3.8.2': pyenv)"
  }
 },
 "nbformat": 4,
 "nbformat_minor": 2
}