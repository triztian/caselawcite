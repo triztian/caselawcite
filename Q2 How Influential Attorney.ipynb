{
 "cells": [
  {
   "cell_type": "code",
   "execution_count": 1,
   "metadata": {},
   "outputs": [],
   "source": [
    "import pandas as pd\n",
    "import sqlite3\n",
    "\n",
    "conn = sqlite3.connect(\"./hcap.sqlite\")\n",
    "\n",
    "attcases = pd.read_sql_query(\"SELECT * FROM attorney_cases\", conn)\n",
    "\n",
    "##\n",
    "## How influential is an attorney, or how much have other attorneys cited the work of the attorney?\n",
    "##"
   ]
  },
  {
   "cell_type": "code",
   "execution_count": 53,
   "metadata": {},
   "outputs": [
    {
     "output_type": "stream",
     "name": "stdout",
     "text": "\nMean Case: id    7.461461\ndtype: float64\n"
    },
    {
     "output_type": "execute_result",
     "data": {
      "text/plain": "34124"
     },
     "metadata": {},
     "execution_count": 53
    }
   ],
   "source": [
    "# Find and attorney with a mediumly-large number of cases\n",
    "# We'll take the last one for our analysis\n",
    "attorneys = pd.read_sql_query(\"SELECT * FROM attorneys\", conn)\n",
    "attcascnt = attcases.groupby(\"attorney_id\").size()\n",
    "\n",
    "print(\"\\nMean Cases:\", attcascnt.agg({\"id\": 'mean'}))\n",
    "\n",
    "caserng = attcascnt[(attcascnt > 200) & (attcascnt < 210)]\n",
    "attorney_id = caserng.index.tolist().pop()\n",
    "attorney_id"
   ]
  },
  {
   "cell_type": "code",
   "execution_count": 56,
   "metadata": {},
   "outputs": [
    {
     "output_type": "stream",
     "name": "stdout",
     "text": "\\begin{tabular}{lrl}\n\\toprule\n{} &     id &             names \\\\\n\\midrule\n34123 &  34124 &  william j. tuohy \\\\\n\\bottomrule\n\\end{tabular}\n\n"
    },
    {
     "output_type": "execute_result",
     "data": {
      "text/plain": "          id             names\n34123  34124  william j. tuohy",
      "text/html": "<div>\n<style scoped>\n    .dataframe tbody tr th:only-of-type {\n        vertical-align: middle;\n    }\n\n    .dataframe tbody tr th {\n        vertical-align: top;\n    }\n\n    .dataframe thead th {\n        text-align: right;\n    }\n</style>\n<table border=\"1\" class=\"dataframe\">\n  <thead>\n    <tr style=\"text-align: right;\">\n      <th></th>\n      <th>id</th>\n      <th>names</th>\n    </tr>\n  </thead>\n  <tbody>\n    <tr>\n      <th>34123</th>\n      <td>34124</td>\n      <td>william j. tuohy</td>\n    </tr>\n  </tbody>\n</table>\n</div>"
     },
     "metadata": {},
     "execution_count": 56
    }
   ],
   "source": [
    "## Now lets find the attorney\n",
    "satt = attorneys[attorneys[\"id\"] == attorney_id]\n",
    "print(satt.to_latex())\n",
    "satt"
   ]
  },
  {
   "cell_type": "code",
   "execution_count": 58,
   "metadata": {},
   "outputs": [
    {
     "output_type": "stream",
     "name": "stdout",
     "text": "\\begin{tabular}{lr}\n\\toprule\n{} &  cited\\_count \\\\\n\\midrule\nsum  &  1867.000000 \\\\\nmax  &     7.000000 \\\\\nmean &     1.186904 \\\\\n\\bottomrule\n\\end{tabular}\n\n"
    },
    {
     "output_type": "execute_result",
     "data": {
      "text/plain": "      cited_count\nsum   1867.000000\nmax      7.000000\nmean     1.186904",
      "text/html": "<div>\n<style scoped>\n    .dataframe tbody tr th:only-of-type {\n        vertical-align: middle;\n    }\n\n    .dataframe tbody tr th {\n        vertical-align: top;\n    }\n\n    .dataframe thead th {\n        text-align: right;\n    }\n</style>\n<table border=\"1\" class=\"dataframe\">\n  <thead>\n    <tr style=\"text-align: right;\">\n      <th></th>\n      <th>cited_count</th>\n    </tr>\n  </thead>\n  <tbody>\n    <tr>\n      <th>sum</th>\n      <td>1867.000000</td>\n    </tr>\n    <tr>\n      <th>max</th>\n      <td>7.000000</td>\n    </tr>\n    <tr>\n      <th>mean</th>\n      <td>1.186904</td>\n    </tr>\n  </tbody>\n</table>\n</div>"
     },
     "metadata": {},
     "execution_count": 58
    }
   ],
   "source": [
    "## Select cases that cite to any of the cases in which the attorney has participated.\n",
    "citing_cases = pd.read_sql_query(\n",
    "\"\"\"\n",
    "SELECT \n",
    "\tcase_id, count(*) AS cited_count\n",
    "FROM \n",
    "\tcase_citations \n",
    "WHERE\n",
    "\tcites_to_case_id IN (\n",
    "\t\tSELECT case_id FROM attorney_cases WHERE attorney_id = ?\n",
    "\t)\n",
    "GROUP BY\n",
    "\tcase_id\n",
    "\"\"\", conn, params=(attorney_id,))\n",
    "citecnt = citing_cases.agg({\"cited_count\": ['sum', 'max', 'mean']})\n",
    "print(citecnt.to_latex())\n",
    "citecnt\n",
    "\n"
   ]
  },
  {
   "cell_type": "code",
   "execution_count": null,
   "metadata": {},
   "outputs": [],
   "source": []
  }
 ],
 "metadata": {
  "language_info": {
   "codemirror_mode": {
    "name": "ipython",
    "version": 3
   },
   "file_extension": ".py",
   "mimetype": "text/x-python",
   "name": "python",
   "nbconvert_exporter": "python",
   "pygments_lexer": "ipython3",
   "version": "3.8.2-final"
  },
  "orig_nbformat": 2,
  "kernelspec": {
   "name": "python38264bit382pyenv05fc67cdd8c348f9a384c10c4419353e",
   "display_name": "Python 3.8.2 64-bit ('3.8.2': pyenv)"
  }
 },
 "nbformat": 4,
 "nbformat_minor": 2
}